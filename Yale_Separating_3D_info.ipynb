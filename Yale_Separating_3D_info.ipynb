{
 "cells": [
  {
   "cell_type": "code",
   "execution_count": 6,
   "id": "cb175e45-41f0-4843-840c-a3bddca479f2",
   "metadata": {},
   "outputs": [
    {
     "name": "stdout",
     "output_type": "stream",
     "text": [
      "Sheets: ['Data Dictionary', 'Clinical_data', 'Acquisition_data', 'image_acquisition_parameters']\n",
      "Acquisition_data columns: Index(['patient_id', 'study_datetime', 'vendor', 'model', 'field_strength (T)',\n",
      "       '2D_3D_acquisition', 'scanner_site',\n",
      "       'pre_included (1=present; 0=absent)',\n",
      "       'post_included (1=present; 0=absent)',\n",
      "       't2_included (1=present; 0=absent)',\n",
      "       'flair_included (1=present; 0=absent)'],\n",
      "      dtype='object')\n",
      "        patient_id       study_datetime   vendor   model  field_strength (T)  \\\n",
      "0  YG_01M98EKKAR50  2016-11-13_10-16-23  SIEMENS   Verio                 3.0   \n",
      "1  YG_01M98EKKAR50  2016-11-27_10-38-46  SIEMENS  Espree                 1.5   \n",
      "2  YG_01M98EKKAR50  2016-12-20_12-21-10  SIEMENS   Verio                 3.0   \n",
      "3  YG_021XTGZ9QY91  2016-01-30_19-05-08  SIEMENS   Verio                 3.0   \n",
      "4  YG_021XTGZ9QY91  2016-02-08_11-19-51  SIEMENS  Avanto                 1.5   \n",
      "\n",
      "  2D_3D_acquisition scanner_site  pre_included (1=present; 0=absent)  \\\n",
      "0                2D         Yale                                 1.0   \n",
      "1                3D         Yale                                 0.0   \n",
      "2                2D         Yale                                 0.0   \n",
      "3                2D         Yale                                 1.0   \n",
      "4                2D         Yale                                 0.0   \n",
      "\n",
      "   post_included (1=present; 0=absent)  t2_included (1=present; 0=absent)  \\\n",
      "0                                  1.0                                1.0   \n",
      "1                                  1.0                                0.0   \n",
      "2                                  0.0                                0.0   \n",
      "3                                  1.0                                1.0   \n",
      "4                                  1.0                                0.0   \n",
      "\n",
      "   flair_included (1=present; 0=absent)  \n",
      "0                                   1.0  \n",
      "1                                   0.0  \n",
      "2                                   1.0  \n",
      "3                                   1.0  \n",
      "4                                   0.0  \n",
      "image_acquisition_parameters columns: Index(['file_name', 'patient_id', 'study_datetime', 'sequence_class',\n",
      "       'sequence_tags', 'slice_thickness (mm)', 'spacing_between_slices (mm)',\n",
      "       'repetition_time (ms)', 'echo_time (ms)', 'inversion_time (ms)'],\n",
      "      dtype='object')\n",
      "                                          file_name       patient_id  \\\n",
      "0  YG_01M98EKKAR50_2016-11-13_10-16-23_FLAIR.nii.gz  YG_01M98EKKAR50   \n",
      "1   YG_01M98EKKAR50_2016-11-13_10-16-23_POST.nii.gz  YG_01M98EKKAR50   \n",
      "2    YG_01M98EKKAR50_2016-11-13_10-16-23_PRE.nii.gz  YG_01M98EKKAR50   \n",
      "3     YG_01M98EKKAR50_2016-11-13_10-16-23_T2.nii.gz  YG_01M98EKKAR50   \n",
      "4   YG_01M98EKKAR50_2016-11-27_10-38-46_POST.nii.gz  YG_01M98EKKAR50   \n",
      "\n",
      "        study_datetime sequence_class                          sequence_tags  \\\n",
      "0  2016-11-13_10-16-23          FLAIR                         ax_flair_blade   \n",
      "1  2016-11-13_10-16-23           POST                            ax_t1_se_gd   \n",
      "2  2016-11-13_10-16-23            PRE                           ax_t1_se_pre   \n",
      "3  2016-11-13_10-16-23             T2                            ax_t2_blade   \n",
      "4  2016-11-27_10-38-46           POST  t1_fl3d_tra_post_flash_whole_brain_nd   \n",
      "\n",
      "   slice_thickness (mm)  spacing_between_slices (mm)  repetition_time (ms)  \\\n",
      "0                   5.0                          5.0                9000.0   \n",
      "1                   5.0                          5.0                 541.0   \n",
      "2                   5.0                          5.0                 600.0   \n",
      "3                   5.0                          5.0                3260.0   \n",
      "4                   2.0                          NaN                  13.0   \n",
      "\n",
      "   echo_time (ms)  inversion_time (ms)  \n",
      "0            94.0               2500.0  \n",
      "1            20.0                  NaN  \n",
      "2             9.2                  NaN  \n",
      "3            94.0                  NaN  \n",
      "4             4.9                  NaN  \n"
     ]
    }
   ],
   "source": [
    "import pandas as pd\n",
    "\n",
    "file_path = r\"C:\\Users\\USER\\Downloads\\Yale-Brain-Mets-Longitudinal_ClinicalData_20250605 (1).xlsx\"\n",
    "df = pd.ExcelFile(file_path)\n",
    "\n",
    "print(\"Sheets:\", df.sheet_names)\n",
    "\n",
    "# Load Acquisition_data\n",
    "acq_data = df.parse(\"Acquisition_data\")\n",
    "print(\"Acquisition_data columns:\", acq_data.columns)\n",
    "print(acq_data.head())\n",
    "\n",
    "# Load image_acquisition_parameters\n",
    "img_params = df.parse(\"image_acquisition_parameters\")\n",
    "print(\"image_acquisition_parameters columns:\", img_params.columns)\n",
    "print(img_params.head())\n"
   ]
  },
  {
   "cell_type": "code",
   "execution_count": 8,
   "id": "1994ef2b-30c1-4bb3-aecb-32d8b694c5c8",
   "metadata": {},
   "outputs": [],
   "source": [
    "three_d_data = acq_data[acq_data[\"2D_3D_acquisition\"].str.contains(\"3D\", case=False, na=False)]\n"
   ]
  },
  {
   "cell_type": "code",
   "execution_count": 9,
   "id": "0fbeb182-47a7-4c2e-b290-746bf453b8a0",
   "metadata": {},
   "outputs": [
    {
     "name": "stdout",
     "output_type": "stream",
     "text": [
      "['patient_id', 'study_datetime', 'vendor', 'model', 'field_strength (T)', '2D_3D_acquisition', 'scanner_site', 'pre_included (1=present; 0=absent)', 'post_included (1=present; 0=absent)', 't2_included (1=present; 0=absent)', 'flair_included (1=present; 0=absent)']\n"
     ]
    }
   ],
   "source": [
    "print(acq_data.columns.tolist())\n"
   ]
  },
  {
   "cell_type": "code",
   "execution_count": 11,
   "id": "971a160b-3d16-443c-ae4b-37bb97346b28",
   "metadata": {},
   "outputs": [
    {
     "name": "stdout",
     "output_type": "stream",
     "text": [
      "['2D' '3D' nan]\n"
     ]
    }
   ],
   "source": [
    "print(acq_data[\"2D_3D_acquisition\"].unique())\n"
   ]
  },
  {
   "cell_type": "code",
   "execution_count": 12,
   "id": "c3cacc0b-255d-486b-8762-0cd27972ecaf",
   "metadata": {
    "scrolled": true
   },
   "outputs": [
    {
     "name": "stdout",
     "output_type": "stream",
     "text": [
      "(2380, 11)\n",
      "         patient_id       study_datetime   vendor   model  field_strength (T)  \\\n",
      "1   YG_01M98EKKAR50  2016-11-27_10-38-46  SIEMENS  Espree                 1.5   \n",
      "21  YG_04YGLO8ATWRL  2016-02-19_08-29-05  SIEMENS  Avanto                 1.5   \n",
      "30  YG_0672Z3TDI7TX  2017-04-14_08-31-53  SIEMENS  Avanto                 1.5   \n",
      "37  YG_067CZQ4XF301  2015-07-15_08-18-07  SIEMENS  Avanto                 1.5   \n",
      "39  YG_06JD7DXMWM1Z  2011-01-27_08-17-17  SIEMENS  Avanto                 1.5   \n",
      "\n",
      "   2D_3D_acquisition scanner_site  pre_included (1=present; 0=absent)  \\\n",
      "1                 3D         Yale                                 0.0   \n",
      "21                3D         Yale                                 0.0   \n",
      "30                3D         Yale                                 0.0   \n",
      "37                3D         Yale                                 0.0   \n",
      "39                3D         Yale                                 0.0   \n",
      "\n",
      "    post_included (1=present; 0=absent)  t2_included (1=present; 0=absent)  \\\n",
      "1                                   1.0                                0.0   \n",
      "21                                  1.0                                0.0   \n",
      "30                                  1.0                                0.0   \n",
      "37                                  1.0                                0.0   \n",
      "39                                  1.0                                0.0   \n",
      "\n",
      "    flair_included (1=present; 0=absent)  \n",
      "1                                    0.0  \n",
      "21                                   0.0  \n",
      "30                                   0.0  \n",
      "37                                   0.0  \n",
      "39                                   0.0  \n"
     ]
    }
   ],
   "source": [
    "colname = \"2D_3D_acquisition\"  \n",
    "three_d_data = acq_data[acq_data[colname] == \"3D\"]\n",
    "\n",
    "print(three_d_data.shape)\n",
    "print(three_d_data.head())\n",
    "\n",
    "# Save to file\n",
    "three_d_data.to_excel(\"3D_scans_only.xlsx\", index=False)\n",
    "three_d_data.to_csv(\"3D_scans_only.csv\", index=False)\n"
   ]
  },
  {
   "cell_type": "code",
   "execution_count": 13,
   "id": "9c555319-59a0-4da2-85e8-0d513fa788a0",
   "metadata": {},
   "outputs": [
    {
     "name": "stdout",
     "output_type": "stream",
     "text": [
      "Extracted 2380 rows of 3D scans\n"
     ]
    }
   ],
   "source": [
    "import pandas as pd\n",
    "\n",
    "file_path = r\"C:\\Users\\USER\\Downloads\\Yale-Brain-Mets-Longitudinal_ClinicalData_20250605 (1).xlsx\"\n",
    "df = pd.ExcelFile(file_path)\n",
    "\n",
    "# Load the right sheet\n",
    "acq_data = df.parse(\"Acquisition_data\")\n",
    "\n",
    "# Filter only 3D acquisitions\n",
    "three_d_data = acq_data[acq_data[\"2D_3D_acquisition\"] == \"3D\"]\n",
    "\n",
    "print(f\"Extracted {len(three_d_data)} rows of 3D scans\")\n",
    "\n",
    "\n"
   ]
  },
  {
   "cell_type": "code",
   "execution_count": 15,
   "id": "32dd98d6-ed17-43e6-9295-3def6ccb885a",
   "metadata": {},
   "outputs": [
    {
     "name": "stdout",
     "output_type": "stream",
     "text": [
      "Counts of each value in 2D_3D_acquisition column:\n",
      "2D_3D_acquisition\n",
      "2D     9174\n",
      "3D     2380\n",
      "nan     330\n",
      "Name: count, dtype: int64\n",
      "\n",
      "Rows with unexpected 2D/3D entries:\n",
      "            patient_id       study_datetime                   vendor   model  \\\n",
      "56     YG_08G3HT3A02VT  2021-08-27_10-46-41                  SIEMENS  Avanto   \n",
      "139    YG_0JNSAVNNKN3X  2022-10-25_07-55-51                  SIEMENS  Avanto   \n",
      "144    YG_0KEDXC8XKCKQ  2021-01-30_07-48-41                  SIEMENS  Avanto   \n",
      "240    YG_0VNVGMWSQSC0  2019-04-01_10-26-25                  SIEMENS  Avanto   \n",
      "258    YG_0VXLV8MA5Y86  2019-01-10_08-45-23                  SIEMENS  Avanto   \n",
      "...                ...                  ...                      ...     ...   \n",
      "11702  YG_ZQQEUWN4Y7Y1  2021-03-31_08-08-43                  SIEMENS  Avanto   \n",
      "11714  YG_ZRBR88ICLEKN  2019-07-29_08-40-00                  SIEMENS  Avanto   \n",
      "11722  YG_ZT0QDSINY8YF  2014-03-24_09-38-14  Philips Medical Systems  Intera   \n",
      "11723  YG_ZT0QDSINY8YF  2014-04-06_08-37-45                  SIEMENS   Verio   \n",
      "11802  YG_ZY8FHTNT2A8S  2020-12-19_09-14-27                  SIEMENS  Avanto   \n",
      "\n",
      "       field_strength (T) 2D_3D_acquisition scanner_site  \\\n",
      "56                    1.5               nan         Yale   \n",
      "139                   1.5               nan         Yale   \n",
      "144                   1.5               nan         Yale   \n",
      "240                   1.5               nan         Yale   \n",
      "258                   1.5               nan         Yale   \n",
      "...                   ...               ...          ...   \n",
      "11702                 1.5               nan         Yale   \n",
      "11714                 1.5               nan         Yale   \n",
      "11722                 1.5               nan          OSF   \n",
      "11723                 3.0               nan         Yale   \n",
      "11802                 1.5               nan         Yale   \n",
      "\n",
      "       pre_included (1=present; 0=absent)  \\\n",
      "56                                    0.0   \n",
      "139                                   0.0   \n",
      "144                                   0.0   \n",
      "240                                   0.0   \n",
      "258                                   0.0   \n",
      "...                                   ...   \n",
      "11702                                 0.0   \n",
      "11714                                 1.0   \n",
      "11722                                 0.0   \n",
      "11723                                 0.0   \n",
      "11802                                 0.0   \n",
      "\n",
      "       post_included (1=present; 0=absent)  t2_included (1=present; 0=absent)  \\\n",
      "56                                     1.0                                0.0   \n",
      "139                                    1.0                                0.0   \n",
      "144                                    1.0                                0.0   \n",
      "240                                    1.0                                0.0   \n",
      "258                                    1.0                                0.0   \n",
      "...                                    ...                                ...   \n",
      "11702                                  1.0                                1.0   \n",
      "11714                                  1.0                                0.0   \n",
      "11722                                  1.0                                0.0   \n",
      "11723                                  1.0                                1.0   \n",
      "11802                                  0.0                                0.0   \n",
      "\n",
      "       flair_included (1=present; 0=absent)  \n",
      "56                                      0.0  \n",
      "139                                     0.0  \n",
      "144                                     0.0  \n",
      "240                                     0.0  \n",
      "258                                     0.0  \n",
      "...                                     ...  \n",
      "11702                                   0.0  \n",
      "11714                                   1.0  \n",
      "11722                                   0.0  \n",
      "11723                                   1.0  \n",
      "11802                                   1.0  \n",
      "\n",
      "[330 rows x 11 columns]\n"
     ]
    }
   ],
   "source": [
    "import pandas as pd\n",
    "\n",
    "file_path = r\"C:\\Users\\USER\\Downloads\\Yale-Brain-Mets-Longitudinal_ClinicalData_20250605 (1).xlsx\"\n",
    "\n",
    "# Load the sheet directly\n",
    "acq_data = pd.read_excel(file_path, sheet_name=\"Acquisition_data\")\n",
    "\n",
    "# Convert to string and strip whitespace for safety\n",
    "acq_data[\"2D_3D_acquisition\"] = acq_data[\"2D_3D_acquisition\"].astype(str).str.strip()\n",
    "\n",
    "# Show all unique values and their counts\n",
    "print(\"Counts of each value in 2D_3D_acquisition column:\")\n",
    "print(acq_data[\"2D_3D_acquisition\"].value_counts(dropna=False))\n",
    "\n",
    "# Optionally, show any suspicious entries that are not exactly '2D' or '3D'\n",
    "suspicious = acq_data[~acq_data[\"2D_3D_acquisition\"].isin([\"2D\", \"3D\"])]\n",
    "print(\"\\nRows with unexpected 2D/3D entries:\")\n",
    "print(suspicious)\n"
   ]
  },
  {
   "cell_type": "code",
   "execution_count": 19,
   "id": "3daaa0a1-ec51-44b4-9d7d-9e3fddb7abcc",
   "metadata": {},
   "outputs": [
    {
     "name": "stdout",
     "output_type": "stream",
     "text": [
      "Number of 3D scans: 2380\n",
      "Saved 3D scans to '3D_scans_only.xlsx\n"
     ]
    }
   ],
   "source": [
    "import pandas as pd\n",
    "\n",
    "file_path = r\"C:\\Users\\USER\\Downloads\\Yale-Brain-Mets-Longitudinal_ClinicalData_20250605 (1).xlsx\"\n",
    "\n",
    "# Load the sheet\n",
    "acq_data = pd.read_excel(file_path, sheet_name=\"Acquisition_data\")\n",
    "\n",
    "# Strip whitespace and ensure string type\n",
    "acq_data[\"2D_3D_acquisition\"] = acq_data[\"2D_3D_acquisition\"].astype(str).str.strip()\n",
    "\n",
    "# Filter only 3D scans\n",
    "three_d_data = acq_data[acq_data[\"2D_3D_acquisition\"] == \"3D\"]\n",
    "\n",
    "print(f\"Number of 3D scans: {len(three_d_data)}\")  # Should print 2380\n",
    "\n",
    "# Save to a new Excel file\n",
    "three_d_data.to_excel(r\"F:\\3D_scans_only.xlsx\", index=False)\n",
    "\n",
    "\n",
    "\n",
    "print(\"Saved 3D scans to '3D_scans_only.xlsx\")\n"
   ]
  },
  {
   "cell_type": "code",
   "execution_count": 21,
   "id": "d15f4bac-1aa4-4723-b1e7-f1132761e6fe",
   "metadata": {},
   "outputs": [
    {
     "name": "stdout",
     "output_type": "stream",
     "text": [
      "Number of scans with all modalities present: 696\n"
     ]
    }
   ],
   "source": [
    "import pandas as pd\n",
    "\n",
    "# Load the 3D scans file\n",
    "three_d_data = pd.read_excel(r\"F:\\3D_scans_only.xlsx\")\n",
    "\n",
    "# Filter rows where all modalities are included (value = 1)\n",
    "full_modal_scans = three_d_data[\n",
    "    (three_d_data[\"pre_included (1=present; 0=absent)\"] == 1) &\n",
    "    (three_d_data[\"post_included (1=present; 0=absent)\"] == 1) &\n",
    "    (three_d_data[\"t2_included (1=present; 0=absent)\"] == 1) &\n",
    "    (three_d_data[\"flair_included (1=present; 0=absent)\"] == 1)\n",
    "]\n",
    "\n",
    "print(f\"Number of scans with all modalities present: {len(full_modal_scans)}\")\n",
    "\n",
    "# Save filtered scans if needed\n",
    "full_modal_scans.to_excel(r\"F:\\3D_scans_all_modalities.xlsx\", index=False)\n"
   ]
  },
  {
   "cell_type": "code",
   "execution_count": null,
   "id": "ee6945f5-7334-4492-8af4-f5e8d1ec1d4f",
   "metadata": {},
   "outputs": [],
   "source": []
  }
 ],
 "metadata": {
  "kernelspec": {
   "display_name": "Python [conda env:base] *",
   "language": "python",
   "name": "conda-base-py"
  },
  "language_info": {
   "codemirror_mode": {
    "name": "ipython",
    "version": 3
   },
   "file_extension": ".py",
   "mimetype": "text/x-python",
   "name": "python",
   "nbconvert_exporter": "python",
   "pygments_lexer": "ipython3",
   "version": "3.13.5"
  }
 },
 "nbformat": 4,
 "nbformat_minor": 5
}
